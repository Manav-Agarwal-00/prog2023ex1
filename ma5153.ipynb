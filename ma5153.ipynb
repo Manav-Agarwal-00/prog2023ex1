{
  "nbformat": 4,
  "nbformat_minor": 0,
  "metadata": {
    "colab": {
      "provenance": []
    },
    "kernelspec": {
      "name": "python3",
      "display_name": "Python 3"
    },
    "language_info": {
      "name": "python"
    }
  },
  "cells": [
    {
      "cell_type": "code",
      "execution_count": 11,
      "metadata": {
        "id": "5dijcuhpite8"
      },
      "outputs": [],
      "source": [
        "def set_intersection(list1, list2):\n",
        "  ilist = []\n",
        "\n",
        "  for x in list1:\n",
        "    for y in list2:\n",
        "      if x == y:\n",
        "        if x not in ilist:\n",
        "            ilist.append(x)\n",
        "  return ilist"
      ]
    },
    {
      "cell_type": "code",
      "source": [
        "A = [2, 4, 5, 6]\n",
        "B = [4, 6, 7, 8]"
      ],
      "metadata": {
        "id": "erwTdF8DjwLY"
      },
      "execution_count": 12,
      "outputs": []
    },
    {
      "cell_type": "code",
      "source": [
        "test = set_intersection(A,B)\n",
        "test"
      ],
      "metadata": {
        "colab": {
          "base_uri": "https://localhost:8080/"
        },
        "id": "V31yz_E1j077",
        "outputId": "de5749b5-aa1d-48c4-f7c5-e77333e8c1f6"
      },
      "execution_count": 13,
      "outputs": [
        {
          "output_type": "execute_result",
          "data": {
            "text/plain": [
              "[4, 6]"
            ]
          },
          "metadata": {},
          "execution_count": 13
        }
      ]
    }
  ]
}